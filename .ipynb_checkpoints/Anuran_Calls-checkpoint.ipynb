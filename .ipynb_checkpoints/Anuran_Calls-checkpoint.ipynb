{
 "cells": [
  {
   "cell_type": "markdown",
   "metadata": {},
   "source": [
    "# Anuran Calls (MFCCs) Data Set \n",
    "\n",
    "Classification using SVM with different kernel functions. \n",
    "\n",
    "**Shiyu Mou**\n",
    "\n",
    "**shiyumou@usc.edu**"
   ]
  },
  {
   "cell_type": "code",
   "execution_count": 85,
   "metadata": {},
   "outputs": [],
   "source": [
    "import numpy as np\n",
    "import scipy as sp\n",
    "%matplotlib inline\n",
    "import matplotlib.pyplot as plt\n",
    "import pandas as pd\n",
    "from sklearn.svm import SVC\n",
    "from sklearn.model_selection import GridSearchCV\n",
    "from sklearn.model_selection import train_test_split\n",
    "from sklearn.svm import LinearSVC\n",
    "from sklearn import preprocessing\n",
    "from sklearn.metrics import hamming_loss\n"
   ]
  },
  {
   "cell_type": "code",
   "execution_count": 42,
   "metadata": {},
   "outputs": [],
   "source": [
    "def load_data():   \n",
    "    filename = \"Anuran Calls (MFCCs)/Frogs_MFCCs.csv\"\n",
    "    df = pd.read_csv(filename)\n",
    "    X = df.iloc[:, :22]\n",
    "    y = df.iloc[:, 22:-1]\n",
    "    y_fam = df['Family']\n",
    "    y_gen = df['Genus']\n",
    "    y_spe = df['Species']\n",
    "    return df, X, y_fam, y_gen, y_spe, y"
   ]
  },
  {
   "cell_type": "code",
   "execution_count": 43,
   "metadata": {},
   "outputs": [
    {
     "name": "stdout",
     "output_type": "stream",
     "text": [
      "(7195, 26)\n",
      "(5036, 3)\n"
     ]
    }
   ],
   "source": [
    "df, X, y_fam, y_gen, y_spe, y = load_data()\n",
    "X_train, X_test, y_train, y_test = train_test_split(\n",
    "         X, y, test_size=0.3, random_state=42)\n",
    "# print(y)\n",
    "print(df.shape)\n",
    "print(y_train.shape)"
   ]
  },
  {
   "cell_type": "markdown",
   "metadata": {},
   "source": [
    "## Gaussian Kernel SVM"
   ]
  },
  {
   "cell_type": "code",
   "execution_count": 46,
   "metadata": {},
   "outputs": [],
   "source": [
    "def GaussianSVM(X_train, y_train):\n",
    "    params_dict = {\"C\": np.logspace(-3, 6, 5), \"gamma\": np.linspace(0.1, 2, 5)}\n",
    "    svm = SVC(kernel=\"rbf\")\n",
    "    # grid search\n",
    "    search = GridSearchCV(estimator=svm, param_grid=params_dict, cv=10)\n",
    "    search.fit(X_train, y_train)   \n",
    "    print(\"Best parameter values:\", search.best_params_)\n",
    "    print(\"CV Score with best parameter values:\", search.best_score_)\n",
    "    return search.best_params_, search.best_score_, search"
   ]
  },
  {
   "cell_type": "code",
   "execution_count": 47,
   "metadata": {},
   "outputs": [
    {
     "name": "stdout",
     "output_type": "stream",
     "text": [
      "The 'Family' Label: \n",
      "Best parameter values: {'C': 31.622776601683793, 'gamma': 2.0}\n",
      "CV Score with best parameter values: 0.9932486100079428\n"
     ]
    }
   ],
   "source": [
    "# Family\n",
    "print(\"The 'Family' Label: \")\n",
    "fam_params, fam_score, fam_model = GaussianSVM(X_train, y_train['Family'])"
   ]
  },
  {
   "cell_type": "code",
   "execution_count": 48,
   "metadata": {},
   "outputs": [
    {
     "name": "stdout",
     "output_type": "stream",
     "text": [
      "The 'Genus' Label: \n",
      "Best parameter values: {'C': 31.622776601683793, 'gamma': 1.525}\n",
      "CV Score with best parameter values: 0.9910643367752184\n"
     ]
    }
   ],
   "source": [
    "# Genus\n",
    "print(\"The 'Genus' Label: \")\n",
    "Gen_params, Gen_score, Gen_model = GaussianSVM(X_train, y_train['Genus'])"
   ]
  },
  {
   "cell_type": "code",
   "execution_count": 49,
   "metadata": {},
   "outputs": [
    {
     "name": "stdout",
     "output_type": "stream",
     "text": [
      "The 'Species' Label: \n",
      "Best parameter values: {'C': 31.622776601683793, 'gamma': 1.525}\n",
      "CV Score with best parameter values: 0.9906671961874504\n"
     ]
    }
   ],
   "source": [
    "# Species\n",
    "print(\"The 'Species' Label: \")\n",
    "Spe_params, Spe_score, Spe_model = GaussianSVM(X_train, y_train['Species'])"
   ]
  },
  {
   "cell_type": "markdown",
   "metadata": {},
   "source": [
    "### Train and test with the best parameters."
   ]
  },
  {
   "cell_type": "code",
   "execution_count": 102,
   "metadata": {},
   "outputs": [],
   "source": [
    "def GaussianSVM_best(X_train, y_train, C_, gamma_, X_test):\n",
    "    svm = SVC(kernel=\"rbf\", C=C_, gamma=gamma_)\n",
    "    svm.fit(X_train, y_train)   \n",
    "    y_predict = svm.predict(X_test)\n",
    "    return y_predict"
   ]
  },
  {
   "cell_type": "code",
   "execution_count": 178,
   "metadata": {},
   "outputs": [],
   "source": [
    "# Family\n",
    "y_p_fam = GaussianSVM_best(X_train, y_train['Family'], fam_params['C'], fam_params['gamma'], X_test)\n",
    "y_p_fam = pd.DataFrame(y_p_fam)\n",
    "# Genus\n",
    "y_p_gen = GaussianSVM_best(X_train, y_train['Genus'], Gen_params['C'], Gen_params['gamma'], X_test)\n",
    "y_p_gen = pd.DataFrame(y_p_gen)\n",
    "# Species\n",
    "y_p_spe = GaussianSVM_best(X_train, y_train['Species'], Spe_params['C'], Spe_params['gamma'], X_test)\n",
    "y_p_spe = pd.DataFrame(y_p_spe)\n",
    "# combine\n",
    "y_predict = pd.concat([y_p_fam, y_p_gen, y_p_spe], axis=1, sort=False)"
   ]
  },
  {
   "cell_type": "code",
   "execution_count": 123,
   "metadata": {},
   "outputs": [],
   "source": [
    "def hammingLoss(y_predict, y_test):\n",
    "    loss_list = list()\n",
    "    for i in range(len(y_test)):\n",
    "        loss_list.append(hamming_loss(y_predict.iloc[i,:], y_test.iloc[i,:]))\n",
    "#     print(loss_list)\n",
    "    return sum(loss_list) / len(loss_list)  "
   ]
  },
  {
   "cell_type": "code",
   "execution_count": 164,
   "metadata": {},
   "outputs": [],
   "source": [
    "def exactMatch(y_predict, y_test):\n",
    "    loss_list = list()\n",
    "    for i in range(len(y_test)):\n",
    "        if set(y_predict.values[i,:]) == set(y_test.iloc[i,:]):\n",
    "            loss_list.append(1)\n",
    "        else:\n",
    "            loss_list.append(0)\n",
    "#     print(loss_list)\n",
    "    return sum(loss_list) / len(loss_list)     "
   ]
  },
  {
   "cell_type": "code",
   "execution_count": 179,
   "metadata": {},
   "outputs": [
    {
     "name": "stdout",
     "output_type": "stream",
     "text": [
      "Hamming loss for Gaussian Kernel:  0.007410838351088467\n",
      "Exact Match Score for Gaussian Kernel:  0.9898100972672533\n"
     ]
    }
   ],
   "source": [
    "h_loss = hammingLoss(y_predict, y_test)\n",
    "print('Hamming loss for Gaussian Kernel: ', h_loss)       \n",
    "e_score = exactMatch(y_predict, y_test)\n",
    "print('Exact Match Score for Gaussian Kernel: ', e_score)  "
   ]
  },
  {
   "cell_type": "markdown",
   "metadata": {},
   "source": [
    "## L1 penalization SVM"
   ]
  },
  {
   "cell_type": "code",
   "execution_count": 62,
   "metadata": {},
   "outputs": [],
   "source": [
    "def normalize(df):\n",
    "    x = df.values #returns a numpy array\n",
    "    min_max_scaler = preprocessing.MinMaxScaler()\n",
    "    x_scaled = min_max_scaler.fit_transform(x)\n",
    "    df = pd.DataFrame(x_scaled)\n",
    "    return df"
   ]
  },
  {
   "cell_type": "code",
   "execution_count": 64,
   "metadata": {},
   "outputs": [],
   "source": [
    "X_train_norm = normalize(X_train)\n",
    "X_test_norm = normalize(X_test)\n",
    "# y_train_norm = normalize(y_train)\n",
    "# y_test_norm = normalize(y_test)"
   ]
  },
  {
   "cell_type": "code",
   "execution_count": 56,
   "metadata": {},
   "outputs": [],
   "source": [
    "def L1PSVM(X_train, y_train):\n",
    "    params_dict = {\"C\": np.logspace(-3, 6, 10)}\n",
    "#     svm = SVC(kernel=\"rbf\")\n",
    "    svm = LinearSVC(penalty='l1', dual=False)\n",
    "    # grid search\n",
    "    search = GridSearchCV(estimator=svm, param_grid=params_dict, cv=10)\n",
    "    search.fit(X_train, y_train)   \n",
    "    print(\"Best parameter values:\", search.best_params_)\n",
    "    print(\"CV Score with best parameter values:\", search.best_score_)\n",
    "    return search.best_params_, search.best_score_, search"
   ]
  },
  {
   "cell_type": "code",
   "execution_count": 65,
   "metadata": {},
   "outputs": [
    {
     "name": "stdout",
     "output_type": "stream",
     "text": [
      "The 'Family' Label: \n",
      "Best parameter values: {'C': 10.0}\n",
      "CV Score with best parameter values: 0.937251787132645\n"
     ]
    }
   ],
   "source": [
    "# Family\n",
    "print(\"The 'Family' Label: \")\n",
    "fam_params_l1, fam_score_l1, fam_model_l1 = L1PSVM(X_train_norm, y_train['Family'])"
   ]
  },
  {
   "cell_type": "code",
   "execution_count": 66,
   "metadata": {},
   "outputs": [
    {
     "name": "stdout",
     "output_type": "stream",
     "text": [
      "The 'Genus' Label: \n",
      "Best parameter values: {'C': 100.0}\n",
      "CV Score with best parameter values: 0.9479745830023828\n"
     ]
    }
   ],
   "source": [
    "# Genus\n",
    "print(\"The 'Genus' Label: \")\n",
    "Gen_params_l1, Gen_score_l1, Gen_model_l1 = L1PSVM(X_train_norm, y_train['Genus'])"
   ]
  },
  {
   "cell_type": "code",
   "execution_count": 67,
   "metadata": {
    "scrolled": false
   },
   "outputs": [
    {
     "name": "stdout",
     "output_type": "stream",
     "text": [
      "The 'Species' Label: \n",
      "Best parameter values: {'C': 1000000.0}\n",
      "CV Score with best parameter values: 0.9577045274027005\n"
     ]
    }
   ],
   "source": [
    "# Species\n",
    "print(\"The 'Species' Label: \")\n",
    "Spe_params_l1, Spe_score_l1, Spe_model_l1 = L1PSVM(X_train_norm, y_train['Species'])"
   ]
  },
  {
   "cell_type": "code",
   "execution_count": 125,
   "metadata": {},
   "outputs": [],
   "source": [
    "def L1_SVM_best(X_train, y_train, C_, X_test):\n",
    "    svm = LinearSVC(penalty='l1', dual=False, C=C_)\n",
    "    svm.fit(X_train, y_train)   \n",
    "    y_predict = svm.predict(X_test)\n",
    "    return y_predict"
   ]
  },
  {
   "cell_type": "code",
   "execution_count": 195,
   "metadata": {},
   "outputs": [],
   "source": [
    "# Family\n",
    "y_p_fam_l1 = L1_SVM_best(X_train, y_train['Family'], fam_params_l1['C'], X_test)\n",
    "y_p_fam_l1 = pd.DataFrame(y_p_fam_l1)\n",
    "# Genus\n",
    "y_p_gen_l1 = L1_SVM_best(X_train, y_train['Genus'], Gen_params_l1['C'], X_test)\n",
    "y_p_gen_l1 = pd.DataFrame(y_p_gen_l1)\n",
    "# Species\n",
    "y_p_spe_l1 = L1_SVM_best(X_train, y_train['Species'], Spe_params_l1['C'], X_test)\n",
    "y_p_spe_l1 = pd.DataFrame(y_p_spe_l1)\n",
    "# combine\n",
    "y_predict_l1 = pd.concat([y_p_fam_l1, y_p_gen_l1, y_p_spe_l1], axis=1, sort=False)"
   ]
  },
  {
   "cell_type": "code",
   "execution_count": 196,
   "metadata": {},
   "outputs": [
    {
     "name": "stdout",
     "output_type": "stream",
     "text": [
      "Hamming loss for L1 Penalty:  0.05727960475528792\n",
      "Exact Match Score for L1 Penalty:  0.9101435849930524\n"
     ]
    }
   ],
   "source": [
    "h_loss_l1 = hammingLoss(y_predict_l1, y_test)\n",
    "print('Hamming loss for L1 Penalty: ', h_loss_l1)     \n",
    "e_score_l1 = exactMatch(y_predict_l1, y_test)\n",
    "print('Exact Match Score for L1 Penalty: ', e_score_l1)  "
   ]
  },
  {
   "cell_type": "markdown",
   "metadata": {},
   "source": [
    "## Resampling"
   ]
  },
  {
   "cell_type": "code",
   "execution_count": 80,
   "metadata": {},
   "outputs": [],
   "source": [
    "def L1PSVM_Resample(X_train, y_train):\n",
    "    print('Original dataset shape {}'.format(Counter(y_train))) \n",
    "    sm = SMOTE(random_state=42)\n",
    "    X_res, y_res = sm.fit_sample(X_train, y_train)    \n",
    "    print('Resampled dataset shape {}'.format(Counter(y_res)))\n",
    "    params_dict = {\"C\": np.logspace(-3, 6, 10)}\n",
    "#     svm = SVC(kernel=\"rbf\")\n",
    "    svm = LinearSVC(penalty='l1', dual=False)\n",
    "    # grid search\n",
    "    search = GridSearchCV(estimator=svm, param_grid=params_dict, cv=10)\n",
    "    search.fit(X_res, y_res)   \n",
    "    print(\"Best parameter values:\", search.best_params_)\n",
    "    print(\"CV Score with best parameter values:\", search.best_score_)\n",
    "    return search.best_params_, search.best_score_, search"
   ]
  },
  {
   "cell_type": "code",
   "execution_count": 81,
   "metadata": {},
   "outputs": [
    {
     "name": "stdout",
     "output_type": "stream",
     "text": [
      "The 'Family' Label: \n",
      "Original dataset shape Counter({'Leptodactylidae': 3073, 'Hylidae': 1542, 'Dendrobatidae': 380, 'Bufonidae': 41})\n",
      "Resampled dataset shape Counter({'Leptodactylidae': 3073, 'Dendrobatidae': 3073, 'Hylidae': 3073, 'Bufonidae': 3073})\n",
      "Best parameter values: {'C': 10.0}\n",
      "CV Score with best parameter values: 0.9450862349495607\n"
     ]
    }
   ],
   "source": [
    "# Family\n",
    "print(\"The 'Family' Label: \")\n",
    "fam_params_l1_rs, fam_score_l1_rs, fam_model_l1_rs = L1PSVM_Resample(X_train_norm, y_train['Family'])"
   ]
  },
  {
   "cell_type": "code",
   "execution_count": 82,
   "metadata": {},
   "outputs": [
    {
     "name": "stdout",
     "output_type": "stream",
     "text": [
      "The 'Genus' Label: \n",
      "Original dataset shape Counter({'Adenomera': 2899, 'Hypsiboas': 1125, 'Ameerega': 380, 'Dendropsophus': 226, 'Leptodactylus': 174, 'Scinax': 111, 'Osteocephalus': 80, 'Rhinella': 41})\n",
      "Resampled dataset shape Counter({'Adenomera': 2899, 'Ameerega': 2899, 'Hypsiboas': 2899, 'Rhinella': 2899, 'Scinax': 2899, 'Dendropsophus': 2899, 'Leptodactylus': 2899, 'Osteocephalus': 2899})\n",
      "Best parameter values: {'C': 10.0}\n",
      "CV Score with best parameter values: 0.950327699206623\n"
     ]
    }
   ],
   "source": [
    "# Genus\n",
    "print(\"The 'Genus' Label: \")\n",
    "Gen_params_l1_rs, Gen_score_l1_rs, Gen_model_l1_rs = L1PSVM_Resample(X_train_norm, y_train['Genus'])"
   ]
  },
  {
   "cell_type": "code",
   "execution_count": 83,
   "metadata": {},
   "outputs": [
    {
     "name": "stdout",
     "output_type": "stream",
     "text": [
      "The 'Species' Label: \n",
      "Original dataset shape Counter({'AdenomeraHylaedactylus': 2447, 'HypsiboasCordobae': 788, 'AdenomeraAndre': 452, 'Ameeregatrivittata': 380, 'HypsiboasCinerascens': 337, 'HylaMinuta': 226, 'LeptodactylusFuscus': 174, 'ScinaxRuber': 111, 'OsteocephalusOophagus': 80, 'Rhinellagranulosa': 41})\n",
      "Resampled dataset shape Counter({'AdenomeraHylaedactylus': 2447, 'Ameeregatrivittata': 2447, 'HypsiboasCinerascens': 2447, 'AdenomeraAndre': 2447, 'Rhinellagranulosa': 2447, 'ScinaxRuber': 2447, 'HylaMinuta': 2447, 'HypsiboasCordobae': 2447, 'LeptodactylusFuscus': 2447, 'OsteocephalusOophagus': 2447})\n",
      "Best parameter values: {'C': 1000000.0}\n",
      "CV Score with best parameter values: 0.953330608908868\n"
     ]
    }
   ],
   "source": [
    "# Species\n",
    "print(\"The 'Species' Label: \")\n",
    "Spe_params_l1_rs, Spe_score_l1_rs, Spe_model_l1_rs = L1PSVM_Resample(X_train_norm, y_train['Species'])"
   ]
  },
  {
   "cell_type": "code",
   "execution_count": 168,
   "metadata": {},
   "outputs": [],
   "source": [
    "def res_SVM_best(X_train, y_train, C_, X_test):\n",
    "    sm = SMOTE(random_state=42)\n",
    "    X_res, y_res = sm.fit_sample(X_train, y_train)   \n",
    "    svm = LinearSVC(penalty='l1', dual=False, C=C_)\n",
    "    svm.fit(X_train, y_train)   \n",
    "    y_predict = svm.predict(X_test)\n",
    "    return y_predict"
   ]
  },
  {
   "cell_type": "code",
   "execution_count": 197,
   "metadata": {},
   "outputs": [],
   "source": [
    "# Family\n",
    "y_p_fam_l1_rs = res_SVM_best(X_train, y_train['Family'], fam_params_l1_rs['C'], X_test)\n",
    "y_p_fam_l1_rs = pd.DataFrame(y_p_fam_l1_rs)\n",
    "# Genus\n",
    "y_p_gen_l1_rs = res_SVM_best(X_train, y_train['Genus'], Gen_params_l1_rs['C'], X_test)\n",
    "y_p_gen_l1_rs = pd.DataFrame(y_p_gen_l1_rs)\n",
    "# Species\n",
    "y_p_spe_l1_rs = res_SVM_best(X_train, y_train['Species'], Spe_params_l1_rs['C'], X_test)\n",
    "y_p_spe_l1_rs = pd.DataFrame(y_p_spe_l1_rs)\n",
    "# combine\n",
    "y_predict_l1_rs = pd.concat([y_p_fam_l1_rs, y_p_gen_l1_rs, y_p_spe_l1_rs], axis=1, sort=False)"
   ]
  },
  {
   "cell_type": "code",
   "execution_count": 198,
   "metadata": {},
   "outputs": [
    {
     "name": "stdout",
     "output_type": "stream",
     "text": [
      "Hamming loss for resampled L1 Penalty:  0.05697081982399256\n",
      "Exact Match Score for resampled L1 Penalty:  0.9106067623899954\n"
     ]
    }
   ],
   "source": [
    "h_loss_ls_rs = hammingLoss(y_predict_l1_rs, y_test)\n",
    "print('Hamming loss for resampled L1 Penalty: ', h_loss_ls_rs)     \n",
    "e_score_l1_rs = exactMatch(y_predict_l1_rs, y_test)\n",
    "print('Exact Match Score for resampled L1 Penalty: ', e_score_l1_rs)  "
   ]
  },
  {
   "cell_type": "markdown",
   "metadata": {},
   "source": [
    "## Conclusion\n",
    "In the experiment, Gaussian Kernel gives the best performance. "
   ]
  },
  {
   "cell_type": "code",
   "execution_count": 185,
   "metadata": {},
   "outputs": [
    {
     "data": {
      "text/html": [
       "<div>\n",
       "<style scoped>\n",
       "    .dataframe tbody tr th:only-of-type {\n",
       "        vertical-align: middle;\n",
       "    }\n",
       "\n",
       "    .dataframe tbody tr th {\n",
       "        vertical-align: top;\n",
       "    }\n",
       "\n",
       "    .dataframe thead th {\n",
       "        text-align: right;\n",
       "    }\n",
       "</style>\n",
       "<table border=\"1\" class=\"dataframe\">\n",
       "  <thead>\n",
       "    <tr style=\"text-align: right;\">\n",
       "      <th></th>\n",
       "      <th>Hamming Loss</th>\n",
       "      <th>Exact Match Score</th>\n",
       "    </tr>\n",
       "  </thead>\n",
       "  <tbody>\n",
       "    <tr>\n",
       "      <th>Gaussian</th>\n",
       "      <td>0.007411</td>\n",
       "      <td>0.989810</td>\n",
       "    </tr>\n",
       "    <tr>\n",
       "      <th>l1 penalty</th>\n",
       "      <td>0.056971</td>\n",
       "      <td>0.911070</td>\n",
       "    </tr>\n",
       "    <tr>\n",
       "      <th>resampled l1</th>\n",
       "      <td>0.056662</td>\n",
       "      <td>0.911533</td>\n",
       "    </tr>\n",
       "  </tbody>\n",
       "</table>\n",
       "</div>"
      ],
      "text/plain": [
       "              Hamming Loss  Exact Match Score\n",
       "Gaussian          0.007411           0.989810\n",
       "l1 penalty        0.056971           0.911070\n",
       "resampled l1      0.056662           0.911533"
      ]
     },
     "execution_count": 185,
     "metadata": {},
     "output_type": "execute_result"
    }
   ],
   "source": [
    "score_report = pd.DataFrame()\n",
    "score_report['Hamming Loss'] = [h_loss, h_loss_l1, h_loss_ls_rs]\n",
    "score_report['Exact Match Score'] = [e_score, e_score_l1, e_score_l1_rs]\n",
    "score_report.index = ['Gaussian', \"l1 penalty\", 'resampled l1']\n",
    "score_report"
   ]
  },
  {
   "cell_type": "code",
   "execution_count": null,
   "metadata": {},
   "outputs": [],
   "source": []
  }
 ],
 "metadata": {
  "kernelspec": {
   "display_name": "Python 3",
   "language": "python",
   "name": "python3"
  },
  "language_info": {
   "codemirror_mode": {
    "name": "ipython",
    "version": 3
   },
   "file_extension": ".py",
   "mimetype": "text/x-python",
   "name": "python",
   "nbconvert_exporter": "python",
   "pygments_lexer": "ipython3",
   "version": "3.6.2"
  }
 },
 "nbformat": 4,
 "nbformat_minor": 2
}
